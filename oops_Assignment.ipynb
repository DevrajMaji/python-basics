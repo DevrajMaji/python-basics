{
  "nbformat": 4,
  "nbformat_minor": 0,
  "metadata": {
    "colab": {
      "provenance": []
    },
    "kernelspec": {
      "name": "python3",
      "display_name": "Python 3"
    },
    "language_info": {
      "name": "python"
    }
  },
  "cells": [
    {
      "cell_type": "markdown",
      "source": [
        "#Theoritical questions\n",
        "\n",
        "1. What is Object-Oriented Programming (OOP)?\n",
        "  ->Object-Oriented Programming is a programming approach where everything revolves around objects. These objects contain data  and functions  that operate on that data. The goal is to model real-world things and make code reusable, secure, and organized.\n",
        "\n",
        "2. What is a class in OOP?\n",
        "  -> class is a blueprint for creating  any objects.\n",
        "\n",
        "3. What is an object in OOP?\n",
        "  -> Object is the instance of a class.An object is the real thing created from a class.\n",
        "\n",
        "4.  What is the difference between abstraction and encapsulation?\n",
        "  ->Abstraction is about hiding complexity.  just show the necessary part — like using a phone without knowing its internal circuitry.\n",
        "\n",
        "  Encapsulation is about protecting data . This allows the access modifiers for protecting the data.\n",
        "\n",
        "5. What are dunder methods in Python?\n",
        "  ->Dunder methods are special built-in methods in Python with double underscores like __init__, __str__, __len__. These methods make wer custom classes behave like built-in ones.\n",
        "\n",
        "6. Explain the concept of inheritance in OOPH?\n",
        "  ->Inheritance allows a class to reuse code from another class. When the child class inherit the attributes and methods from the parent class then that's called inheritance.\n",
        "\n",
        "7.What is polymorphism in OOP?\n",
        "  ->Polymorphism means \"many forms.\" It lets the same function behave differently depending on the object calling it. For example, animal.speak() might bark for a Dog and meow for a Cat.\n",
        "\n",
        "8.How is encapsulation achieved in Python?\n",
        "  ->We achieve encapsulation using:\n",
        "\n",
        "  Private variables (like self.__age)\n",
        "\n",
        "  Getter and setter methods (or @property decorators)\n",
        "\n",
        "9.What is a constructor in Python?\n",
        "  ->In Python, the __init__() method is the constructor. It automatically runs when we create an object and is used to initialize variables.\n",
        "\n",
        "10. What are class and static methods in Python?\n",
        "  ->Class methods use @classmethod and receive cls (not self) to work with the class itself.\n",
        "\n",
        "  Static methods use @staticmethod and don’t need either self or cls. They're just regular functions inside a class\n",
        "\n",
        "11. What is method overloading in Python?\n",
        "  ->Technically, Python doesn’t support real method overloading. But  can simulate it using default arguments or *args.Method overloading means having multiple methods with the same name but different parameters.\n",
        "\n",
        "12.H What is method overriding in OOP?\n",
        "  ->Overriding means a child class replaces a method from its parent class. It's like customizing the function behavior for our needs.\n",
        "\n",
        "13.What is a property decorator in Python?\n",
        "  ->The @property decorator lets us use methods like attributes. It’s often used with getters and setters to safely access private data.\n",
        "\n",
        "14. Why is polymorphism important in OOP?\n",
        "  ->Because it gives flexibility — one interface, many implementations. It helps in writing cleaner, reusable, and maintainable code.\n",
        "\n",
        "15. What is an abstract class in Python?\n",
        "  ->An abstract class is a class that can’t be used directly. we must inherit it and implement its abstract methods. It's used to define a common structure for future classes.\n",
        "\n",
        "16.What are the advantages of OOP?\n",
        "  ->Reusability\n",
        "  Security\n",
        "\n",
        "  Easier to manage large code\n",
        "\n",
        "  Real-world modeling\n",
        "\n",
        "  Modularity\n",
        "\n",
        "17.What is the difference between a class variable and an instance variable?\n",
        "  ->Class variable is shared by all objects of the class.\n",
        "\n",
        "    Instance variable is unique for each object.\n",
        "  \n",
        "18.What is multiple inheritance in Python?\n",
        "  ->When a class inherits from more than one parent class. Python supports it using the class Child(A, B): format.\n",
        "\n",
        "19.Explain the purpose of ‘’__str__’ and ‘__repr__’ ‘ methods in Python?\n",
        "  ->__str__(self)\n",
        "    Used for readable or user-friendly string representation.\n",
        "    Called when we use print(obj) or str(obj).\n",
        "  __repr__(self)\n",
        "  Used for developer-friendly or debugging string representation.\n",
        "  Called when we use repr(obj) or inspect in interactive mode.\n",
        "  The goal is to return a string that can recreate the object.\n",
        "\n",
        "20.What is the significance of the ‘super()’ function in Python?\n",
        "  ->super() lets us call methods from the parent class, especially useful when overriding methods in the child class.\n",
        "\n",
        "21.What is the significance of the __del__ method in Python?\n",
        "  ->It’s the destructor method. It's automatically called when the object is about to be deleted — used to clean up resources.\n",
        "\n",
        "22. What is the difference between @staticmethod and @classmethod in Python?\n",
        "  ->\t@staticmethod\n",
        "  \t  No special argument\n",
        "      used for Utility methods\n",
        "      @classmethod\n",
        "      Takes cls as argument\n",
        "    \tWorks with class-level data\n",
        "\n",
        "23.How does polymorphism work in Python with inheritanc?\n",
        "  ->It works when we define the same method in multiple classes and call it via a base class reference.\n",
        "\n",
        "24. What is method chaining in Python OOP?\n",
        "  ->When each method returns self, we can chain them together in one line:\n",
        "\n",
        "  obj.setName().setAge().setCourse()\n",
        "\n",
        "25.What is the purpose of the __call__ method?\n",
        "  ->It lets an object act like a function. If defined, we can \"call\" an object using parentheses.\n",
        "  class Greet:\n",
        "      def __call__(self):\n",
        "          print(\"Hello!\")\n",
        "\n",
        "  g = Greet()\n",
        "  g()  # acts like a function!\n"
      ],
      "metadata": {
        "id": "FhvCRzPZjvyz"
      }
    },
    {
      "cell_type": "markdown",
      "source": [
        "#Practical questions"
      ],
      "metadata": {
        "id": "nqzbip19lCG-"
      }
    },
    {
      "cell_type": "code",
      "execution_count": 2,
      "metadata": {
        "id": "pQ7TXbBAjftT",
        "colab": {
          "base_uri": "https://localhost:8080/"
        },
        "outputId": "cb85e399-dd46-4cd5-e736-f85bae21bd7f"
      },
      "outputs": [
        {
          "output_type": "stream",
          "name": "stdout",
          "text": [
            "dog barks\n"
          ]
        }
      ],
      "source": [
        "'''\n",
        " 1. Create a parent class Animal with a method speak() that prints a generic message. Create a child class Dog\n",
        "that overrides the speak() method to print \"Bark!\".\n",
        "'''\n",
        "class Animal:\n",
        "  def speak(self):\n",
        "    print(\"animal speaks\")\n",
        "class Dog(Animal):\n",
        "  def speak(self):\n",
        "    print(\"dog barks\")\n",
        "obj  = Dog()\n",
        "obj.speak()"
      ]
    },
    {
      "cell_type": "code",
      "source": [
        "'''\n",
        "2. Write a program to create an abstract class Shape with a method area(). Derive classes Circle and Rectangle\n",
        "from it and implement the area() method in both.\n",
        "'''\n",
        "from abc import ABC, abstractmethod\n",
        "class shape(ABC):\n",
        "  @abstractmethod\n",
        "  def area(self):\n",
        "    pass\n",
        "class circle(shape):\n",
        "  def __init__(self,radious):\n",
        "    self.radious = radious\n",
        "  def area(self):\n",
        "    return 3.14*self.radious**2\n",
        "class rectangle(shape):\n",
        "  def __init__(self,length,width):\n",
        "    self.length = length\n",
        "    self.width = width\n",
        "  def area(self):\n",
        "    return self.length*self.width\n",
        "obj1 = circle(5)\n",
        "obj2 = rectangle(5,10)\n",
        "print(obj1.area())\n",
        "print(obj2.area())"
      ],
      "metadata": {
        "colab": {
          "base_uri": "https://localhost:8080/"
        },
        "id": "qshw43OwlmiF",
        "outputId": "8c3c927e-ddd7-48ff-ec2c-d5cc8da5aca4"
      },
      "execution_count": 3,
      "outputs": [
        {
          "output_type": "stream",
          "name": "stdout",
          "text": [
            "78.5\n",
            "50\n"
          ]
        }
      ]
    },
    {
      "cell_type": "code",
      "source": [
        "'''\n",
        "3. Implement a multi-level inheritance scenario where a class Vehicle has an attribute type. Derive a class Car\n",
        "and further derive a class ElectricCar that adds a battery attribute.\n",
        "'''\n",
        "class vehicle:\n",
        "  def __init__(self,type):\n",
        "    self.type = type\n",
        "class car(vehicle):\n",
        "  def __init__(self,type,brand):\n",
        "    super().__init__(type)\n",
        "    self.brand = brand\n",
        "class ElectricCar(car):\n",
        "  def __init__(self,type,brand,battery):\n",
        "    super().__init__(type,brand)\n",
        "    self.battery = battery\n",
        "  def show(self):\n",
        "    print(\"the type of the car is : \",self.type)\n",
        "    print(\"the barnd name is : \",self.brand)\n",
        "    print(\"the required battery is :\",self.battery,\"KWH\")\n",
        "\n",
        "obj = ElectricCar(\"Battery\",\"Tesla\",\"100\")\n",
        "obj.show()\n"
      ],
      "metadata": {
        "colab": {
          "base_uri": "https://localhost:8080/"
        },
        "id": "So_xef_1nvCM",
        "outputId": "975a71f0-7310-4118-99f8-0752bec3e237"
      },
      "execution_count": 6,
      "outputs": [
        {
          "output_type": "stream",
          "name": "stdout",
          "text": [
            "the type of the car is :  Battery\n",
            "the barnd name is :  Tesla\n",
            "the required battery is : 100 KWH\n"
          ]
        }
      ]
    },
    {
      "cell_type": "code",
      "source": [
        "'''\n",
        "4. Demonstrate polymorphism by creating a base class Bird with a method fly(). Create two derived classes\n",
        "Sparrow and Penguin that override the fly() method.\n",
        "'''\n",
        "class Bird:\n",
        "  def fly(self):\n",
        "    pass\n",
        "class Sparrow(Bird):\n",
        "  def fly(self):\n",
        "    print(\"sparrow can fly\")\n",
        "class Penguin(Bird):\n",
        "  def fly(self):\n",
        "    print(\"penguin can not fly\")\n",
        "\n",
        "obj = Sparrow()\n",
        "obj1 = Penguin()\n",
        "obj.fly()\n",
        "obj1.fly()"
      ],
      "metadata": {
        "colab": {
          "base_uri": "https://localhost:8080/"
        },
        "id": "UQwa9dfTqrAc",
        "outputId": "db3eabb9-df27-4ce9-d890-83af8eed21fa"
      },
      "execution_count": 8,
      "outputs": [
        {
          "output_type": "stream",
          "name": "stdout",
          "text": [
            "sparrow can fly\n",
            "penguin can not fly\n"
          ]
        }
      ]
    },
    {
      "cell_type": "code",
      "source": [
        "'''\n",
        "5. Write a program to demonstrate encapsulation by creating a class BankAccount with private attributes\n",
        "balance and methods to deposit, withdraw, and check balance.\n",
        "'''\n",
        "class BankAccount:\n",
        "  def __init__(self,balance):\n",
        "    self.__balance = balance\n",
        "  def deposite(self,balance):\n",
        "    self.__balance = self.__balance + balance\n",
        "    print(f\"{balance} deposite successfullty\")\n",
        "  def withdraw(self,balance):\n",
        "    if(balance > self.__balance):\n",
        "      print(\"invalid\")\n",
        "    else:\n",
        "      self.__balance = self.__balance - balance\n",
        "      print(f\"{balance} witdraw successfull\")\n",
        "  def check_balance(self):\n",
        "    return self.__balance\n",
        "\n",
        "obj = BankAccount(1000)\n",
        "obj.deposite(500)\n",
        "obj.withdraw(1500)\n",
        "obj.check_balance()"
      ],
      "metadata": {
        "colab": {
          "base_uri": "https://localhost:8080/"
        },
        "id": "Ffv9SSWNs16w",
        "outputId": "9cc0eefd-df8d-4f50-b1bc-b7018234746c"
      },
      "execution_count": 12,
      "outputs": [
        {
          "output_type": "stream",
          "name": "stdout",
          "text": [
            "500 deposite successfullty\n",
            "1500 witdraw successfull\n"
          ]
        },
        {
          "output_type": "execute_result",
          "data": {
            "text/plain": [
              "0"
            ]
          },
          "metadata": {},
          "execution_count": 12
        }
      ]
    },
    {
      "cell_type": "code",
      "source": [
        "'''\n",
        "6.Demonstrate runtime polymorphism using a method play() in a base class Instrument. Derive classes Guitar\n",
        "and Piano that implement their own version of play().\n",
        "'''\n",
        "class Instrument:\n",
        "    def play(self):\n",
        "        pass\n",
        "class Guitar(Instrument):\n",
        "    def play(self):\n",
        "        print(\"Guitar is playing\")\n",
        "class Piano(Instrument):\n",
        "    def play(self):\n",
        "        print(\"Piano is playing\")\n",
        "obj1 = Guitar()\n",
        "obj2 = Piano()\n",
        "obj1.play()\n",
        "obj2.play()\n"
      ],
      "metadata": {
        "colab": {
          "base_uri": "https://localhost:8080/"
        },
        "id": "6QkjKuSSulGZ",
        "outputId": "bc5956d9-0b8b-4231-d2c0-3ae751914d26"
      },
      "execution_count": 14,
      "outputs": [
        {
          "output_type": "stream",
          "name": "stdout",
          "text": [
            "Guitar is playing\n",
            "Piano is playing\n"
          ]
        }
      ]
    },
    {
      "cell_type": "code",
      "source": [
        "'''\n",
        "7. Create a class MathOperations with a class method add_numbers() to add two numbers and a static\n",
        "method subtract_numbers() to subtract two numbers.\n",
        "'''\n",
        "class MathOperations:\n",
        "  @classmethod\n",
        "  def add_numbers(cls,a,b):\n",
        "    return a+b\n",
        "  @staticmethod\n",
        "  def subsbtract_numbers(a,b):\n",
        "    return a-b\n",
        "print(MathOperations.add_numbers(2,3))\n",
        "print(MathOperations.subsbtract_numbers(2,4))"
      ],
      "metadata": {
        "colab": {
          "base_uri": "https://localhost:8080/"
        },
        "id": "VadXrrkOwGX5",
        "outputId": "892d00fd-8ad2-4179-e4c2-8144a35bb309"
      },
      "execution_count": 21,
      "outputs": [
        {
          "output_type": "stream",
          "name": "stdout",
          "text": [
            "5\n",
            "-2\n"
          ]
        }
      ]
    },
    {
      "cell_type": "code",
      "source": [
        "'''\n",
        "8. Implement a class Person with a class method to count the total number of persons created.\n",
        "'''\n",
        "class Person:\n",
        "    count = 0\n",
        "    def __init__(self, name):\n",
        "        self.name = name\n",
        "        Person.count += 1\n",
        "    @classmethod\n",
        "    def person_counter(cls):\n",
        "        return cls.count\n",
        "obj1 = Person(\"Devraj\")\n",
        "obj2 = Person(\"Amit\")\n",
        "obj3 = Person(\"Riya\")\n",
        "print(\"total persons created:\", Person.person_counter())\n"
      ],
      "metadata": {
        "colab": {
          "base_uri": "https://localhost:8080/"
        },
        "id": "7Dw4OdQbxFz5",
        "outputId": "09e3ddd1-a018-4bdc-9dc3-b9377c960dbb"
      },
      "execution_count": 28,
      "outputs": [
        {
          "output_type": "stream",
          "name": "stdout",
          "text": [
            "total persons created: 3\n"
          ]
        }
      ]
    },
    {
      "cell_type": "code",
      "source": [
        "'''\n",
        "9.Write a class Fraction with attributes numerator and denominator. Override the str method to display the\n",
        "fraction as \"numerator/denominator\".\n",
        "'''\n",
        "class Fraction:\n",
        "  def __init__(self,numerator,denominator):\n",
        "    self.numerator = numerator\n",
        "    self.denominator = denominator\n",
        "  def __str__(self):\n",
        "    return f\"{self.numerator}/{self.denominator}\"\n",
        "obj = Fraction(1,2)\n",
        "print(obj)"
      ],
      "metadata": {
        "colab": {
          "base_uri": "https://localhost:8080/"
        },
        "id": "R7hnN-f_zBJU",
        "outputId": "10a05da5-51c4-4f77-9dfa-19291b9c0e08"
      },
      "execution_count": 32,
      "outputs": [
        {
          "output_type": "stream",
          "name": "stdout",
          "text": [
            "1/2\n"
          ]
        }
      ]
    },
    {
      "cell_type": "code",
      "source": [
        "'''\n",
        "10. Demonstrate operator overloading by creating a class Vector and overriding the add method to add two\n",
        "vectors.\n",
        "'''\n",
        "class Vector:\n",
        "  def __init__(self,a,b):\n",
        "    self.a = a\n",
        "    self.b = b\n",
        "  def __add__(self,others):\n",
        "    return Vector(self.a + others.a , self.b + others.b)\n",
        "\n",
        "v1 = Vector(1,2)\n",
        "v2 = Vector(3,4)\n",
        "v3 = v1+v2\n",
        "print(v3.a,v3.b)"
      ],
      "metadata": {
        "colab": {
          "base_uri": "https://localhost:8080/"
        },
        "id": "uMGsSbpY02od",
        "outputId": "7af51b59-a77b-448a-e097-ae183b4389d0"
      },
      "execution_count": 33,
      "outputs": [
        {
          "output_type": "stream",
          "name": "stdout",
          "text": [
            "4 6\n"
          ]
        }
      ]
    },
    {
      "cell_type": "code",
      "source": [
        "'''\n",
        "11. Create a class Person with attributes name and age. Add a method greet() that prints \"Hello, my name is\n",
        "{name} and I am {age} years old.\"\n",
        "'''\n",
        "class Person:\n",
        "  def __init__(self,name,age):\n",
        "    self.name = name\n",
        "    self.age = age\n",
        "  def greet(self):\n",
        "    name = self.name\n",
        "    age = self.age\n",
        "    print(f\"Hello, my name is {name} and I am {age} years old.\")\n",
        "\n",
        "obj = Person(\"Devraj\",20)\n",
        "obj.greet()"
      ],
      "metadata": {
        "colab": {
          "base_uri": "https://localhost:8080/"
        },
        "id": "kkPN035_38GM",
        "outputId": "823c0336-9857-40c7-ebf1-ce293c472719"
      },
      "execution_count": 35,
      "outputs": [
        {
          "output_type": "stream",
          "name": "stdout",
          "text": [
            "Hello, my name is Devraj and I am 20 years old.\n"
          ]
        }
      ]
    },
    {
      "cell_type": "code",
      "source": [
        "'''\n",
        "12. Implement a class Student with attributes name and grades. Create a method average_grade() to compute\n",
        "the average of the grades.\n",
        "'''\n",
        "class Student:\n",
        "    def __init__(self, name, grades):\n",
        "        self.name = name\n",
        "        self.grades = grades\n",
        "\n",
        "    def average_grade(self):\n",
        "        if len(self.grades) == 0:\n",
        "            return 0\n",
        "        return sum(self.grades) / len(self.grades)\n",
        "student1 = Student(\"Devraj\", [85, 90, 78, 92])\n",
        "print(student1.name + \"'s average grade is: \" + str(student1.average_grade()))\n"
      ],
      "metadata": {
        "colab": {
          "base_uri": "https://localhost:8080/"
        },
        "id": "G7RJTALT6pYe",
        "outputId": "7c5d36a3-af91-4fd5-e8e4-275ffb351543"
      },
      "execution_count": 36,
      "outputs": [
        {
          "output_type": "stream",
          "name": "stdout",
          "text": [
            "Devraj's average grade is: 86.25\n"
          ]
        }
      ]
    },
    {
      "cell_type": "code",
      "source": [
        "'''\n",
        "13. Create a class Rectangle with methods set_dimensions() to set the dimensions and area() to calculate the\n",
        "area.\n",
        "'''\n",
        "class Rectangle:\n",
        "    def set_dimensions(self, length, width):\n",
        "        self.length = length\n",
        "        self.width = width\n",
        "    def area(self):\n",
        "        return self.length * self.width\n",
        "rect = Rectangle()\n",
        "rect.set_dimensions(5, 3)\n",
        "print(\"Area of rectangle:\", rect.area())\n"
      ],
      "metadata": {
        "colab": {
          "base_uri": "https://localhost:8080/"
        },
        "id": "7l6sVT_w95L8",
        "outputId": "adac1a49-81f9-4525-cc94-936ae4dd01e6"
      },
      "execution_count": 37,
      "outputs": [
        {
          "output_type": "stream",
          "name": "stdout",
          "text": [
            "Area of rectangle: 15\n"
          ]
        }
      ]
    },
    {
      "cell_type": "code",
      "source": [
        "'''\n",
        "14. Create a class Employee with a method calculate_salary() that computes the salary based on hours worked\n",
        "and hourly rate. Create a derived class Manager that adds a bonus to the salary.\n",
        "'''\n",
        "class Employee:\n",
        "    def __init__(self, hrs, rate):\n",
        "        self.hrs = hrs\n",
        "        self.rate = rate\n",
        "    def calculate_salary(self):\n",
        "        return self.hrs * self.rate\n",
        "class Manager(Employee):\n",
        "    def __init__(self, hrs, rate, bonus):\n",
        "        super().__init__(hrs, rate)\n",
        "        self.bonus = bonus\n",
        "\n",
        "    def calc_sal(self):\n",
        "        return super().calculate_salary() + self.bonus\n",
        "\n",
        "e = Employee(40, 100)\n",
        "print(\"Emp Salary:\", e.calculate_salary())\n",
        "m = Manager(40, 100, 2000)\n",
        "print(\"Mgr Salary:\", m.calc_sal())\n"
      ],
      "metadata": {
        "colab": {
          "base_uri": "https://localhost:8080/"
        },
        "id": "w1KNQSgC-O9D",
        "outputId": "a58b7a0a-660d-4092-f909-768abe1e2d0a"
      },
      "execution_count": 40,
      "outputs": [
        {
          "output_type": "stream",
          "name": "stdout",
          "text": [
            "Emp Salary: 4000\n",
            "Mgr Salary: 6000\n"
          ]
        }
      ]
    },
    {
      "cell_type": "code",
      "source": [
        "'''\n",
        "15. Create a class Product with attributes name, price, and quantity. Implement a method total_price() that\n",
        "calculates the total price of the product.\n",
        "'''\n",
        "class Prod:\n",
        "    def __init__(self, name, price, qty):\n",
        "        self.name = name\n",
        "        self.price = price\n",
        "        self.qty = qty\n",
        "    def total_price(self):\n",
        "        return self.price * self.qty\n",
        "p = Prod(\"Pen\", 10, 5)\n",
        "p.total_price()\n"
      ],
      "metadata": {
        "colab": {
          "base_uri": "https://localhost:8080/"
        },
        "id": "RKg7yOdI_klI",
        "outputId": "3cd3cc7c-1a30-4058-bdcb-1c7c4b858343"
      },
      "execution_count": 41,
      "outputs": [
        {
          "output_type": "execute_result",
          "data": {
            "text/plain": [
              "50"
            ]
          },
          "metadata": {},
          "execution_count": 41
        }
      ]
    },
    {
      "cell_type": "code",
      "source": [
        "\n",
        "'''\n",
        "16.Create a class Animal with an abstract method sound(). Create two derived classes Cow and Sheep that\n",
        "implement the sound() method.\n",
        "'''\n",
        "from abc import ABC,abstractmethod\n",
        "\n",
        "class Animal(ABC):\n",
        "  @abstractmethod\n",
        "  def sound(self):\n",
        "    pass\n",
        "class Cow(Animal):\n",
        "  def sound(self):\n",
        "    print(\"this is in cow class\")\n",
        "class Sheep(Animal):\n",
        "  def sound(self):\n",
        "      print(\"this is in Sheep class\")\n",
        "\n",
        "obj1 = Cow()\n",
        "obj2  = Sheep()\n",
        "obj1.sound()\n",
        "obj2.sound()"
      ],
      "metadata": {
        "colab": {
          "base_uri": "https://localhost:8080/"
        },
        "id": "jlFqUzjwIvDc",
        "outputId": "821a067a-246f-4324-e4df-9cdcdb2044b0"
      },
      "execution_count": 45,
      "outputs": [
        {
          "output_type": "stream",
          "name": "stdout",
          "text": [
            "this is in cow class\n",
            "this is in Sheep class\n"
          ]
        }
      ]
    },
    {
      "cell_type": "code",
      "source": [
        "'''\n",
        "17.Create a class Book with attributes title, author, and year_published. Add a method get_book_info() that\n",
        "returns a formatted string with the book's details.\n",
        "'''\n",
        "class Book:\n",
        "    def __init__(self, title, author, year_published):\n",
        "        self.title = title\n",
        "        self.author = author\n",
        "        self.year_published = year_published\n",
        "    def get_book_info(self):\n",
        "        return f\"'{self.title}' by {self.author}, published in {self.year_published}\"\n",
        "b = Book(\"MATH\", \"ML Agarwal\", 2005)\n",
        "print(b.get_book_info())\n"
      ],
      "metadata": {
        "colab": {
          "base_uri": "https://localhost:8080/"
        },
        "id": "gyIwVHSzJhDx",
        "outputId": "f88c9d86-16ab-4670-e70b-182028365453"
      },
      "execution_count": 47,
      "outputs": [
        {
          "output_type": "stream",
          "name": "stdout",
          "text": [
            "'MATH' by ML Agarwal, published in 2005\n"
          ]
        }
      ]
    },
    {
      "cell_type": "code",
      "source": [
        "'''\n",
        "18.Create a class House with attributes address and price. Create a derived class Mansion that adds an\n",
        "attribute number_of_rooms.\n",
        "'''\n",
        "class House:\n",
        "    def __init__(self, address, price):\n",
        "        self.address = address\n",
        "        self.price = price\n",
        "class Mansion(House):\n",
        "    def __init__(self, address, price, rooms):\n",
        "        super().__init__(address, price)\n",
        "        self.rooms = rooms\n",
        "m = Mansion(\"123 Luxury Lane\", 5000000, 12)\n",
        "print(f\"Address: {m.address}\")\n",
        "print(f\"Price: ₹{m.price}\")\n",
        "print(f\"Rooms: {m.rooms}\")\n"
      ],
      "metadata": {
        "colab": {
          "base_uri": "https://localhost:8080/"
        },
        "id": "oUO0z2puKIAy",
        "outputId": "2eac5437-3216-4bf3-8fa9-8fc03ae32e29"
      },
      "execution_count": 48,
      "outputs": [
        {
          "output_type": "stream",
          "name": "stdout",
          "text": [
            "Address: 123 Luxury Lane\n",
            "Price: ₹5000000\n",
            "Rooms: 12\n"
          ]
        }
      ]
    },
    {
      "cell_type": "code",
      "source": [],
      "metadata": {
        "id": "NuybVNZBKkJv"
      },
      "execution_count": null,
      "outputs": []
    }
  ]
}