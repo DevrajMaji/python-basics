{
  "nbformat": 4,
  "nbformat_minor": 0,
  "metadata": {
    "colab": {
      "provenance": []
    },
    "kernelspec": {
      "name": "python3",
      "display_name": "Python 3"
    },
    "language_info": {
      "name": "python"
    }
  },
  "cells": [
    {
      "cell_type": "markdown",
      "source": [
        "#Theoritical questions\n",
        "\n",
        "1.What are data structures, and why are they important?\n",
        "  ->In Python, data structures are specialized formats for organizing, storing, and managing data efficiently. They help in performing operations like searching, sorting, and modifying data easily and quickly.\n",
        "\n",
        "2.Explain the difference between mutable and immutable data types with examples.\n",
        "  ->Mutable: Can be changed after creation (e.g., list, dict, set)\n",
        "    a = [1, 2, 3]\n",
        "    a[0] = 10  # OK\n",
        "  Immutable: Cannot be changed after creation (e.g., int, float, tuple, str)\n",
        "    s = \"hello\"\n",
        "    s[0] = 'H'  # Error\n",
        "\n",
        "3.P What are the main differences between lists and tuples in Python?\n",
        "  ->List: Mutable, slower, more flexible\n",
        "    Tuple: Immutable, faster, good for fixed data\n",
        "    list1 = [1, 2, 3]\n",
        "    tuple1 = (1, 2, 3)\n",
        "\n",
        "4. Describe how dictionaries store data.\n",
        "  ->Dictionaries store data as key-value pairs using a hash table. Each key is used to find its index.\n",
        "\n",
        "5.Why might you use a set instead of a list in Python?\n",
        "  ->Sets are faster for membership tests(in), automatically remove duplicates, and are unordered.\n",
        "\n",
        "6.What is a string in Python, and how is it different from a list?\n",
        "  ->A string is an immutable sequence of characters.\n",
        "    A list can hold different types, is mutable, and can be modified.\n",
        "\n",
        "7.How do tuples ensure data integrity in Python?\n",
        "  ->Tuples are immutable, meaning their content can't change, which protects data from accidental modification.\n",
        "\n",
        "8.What is a hash table, and how does it relate to dictionaries in Python?\n",
        "  ->A hash table maps keys to values using a hash function. Python's dictionaries are implemented using hash tables.\n",
        "\n",
        "9.Can lists contain different data types in Python?\n",
        "  ->Yes. Python lists can store elements of different data types.\n",
        "    mixed = [1, \"two\", 3.0]\n",
        "10.Explain why strings are immutable in Python?\n",
        "  ->Strings are immutable for performance, security, and hashing purposes. Changing a string creates a new one.\n",
        "\n",
        "11.What advantages do dictionaries offer over lists for certain tasks?\n",
        "  ->Faster lookups using keys.\n",
        "  More readable when using named keys.\n",
        "  Efficient mapping between values.\n",
        "\n",
        "12.Describe a scenario where using a tuple would be preferable over a list?\n",
        "  ->When we want to store constant data like (latitude, longitude) or use it as a key in a dictionary.\n",
        "\n",
        "13.How do sets handle duplicate values in Python?\n",
        "  ->How do sets handle duplicate values in Python?\n",
        "    Sets automatically remove duplicates.\n",
        "    s = {1, 2, 2, 3}\n",
        "    print(s)  # Output: {1, 2, 3}\n",
        "\n",
        "14.How does the “in” keyword work differently for lists and dictionaries?\n",
        "  ->List: Checks if value exists in elements.\n",
        "    Dict: Checks if key exists.\n",
        "    \"a\" in [1, \"a\", 3]  # True\n",
        "    \"a\" in {\"a\": 1}     # True (checks key)\n",
        "\n",
        "15.Can you modify the elements of a tuple? Explain why or why not?\n",
        "  ->No, tuples are immutable. Once created, you cannot change their contents.\n",
        "\n",
        "16.What is a nested dictionary, and give an example of its use case?\n",
        "  ->A nested dictionary contains another dictionary as a value.\n",
        "    Use case: Storing student records.\n",
        "    students = {\"John\": {\"age\": 20, \"grade\": \"A\"}}\n",
        "\n",
        "17.Describe the time complexity of accessing elements in a dictionary?\n",
        "  ->Average-case time complexity is O(1) due to hash table lookup.\n",
        "\n",
        "18.In what situations are lists preferred over dictionaries?\n",
        "  ->When we need ordered data.\n",
        "  When there is no key-value pairing.\n",
        "  For simple sequences.\n",
        "\n",
        "19.Why are dictionaries considered unordered, and how does that affect data retrieval?\n",
        "  ->Dictionaries are called unordered because you can't access items by position, only by key.\n",
        "  d = {\"a\": 1, \"b\": 2}\n",
        "  print(d[\"a\"])  #ok\n",
        "  print(d[0])    #error\n",
        "\n",
        "20.Explain the difference between a list and a dictionary in terms of data retrieval?\n",
        "  ->List: Access data using index (position)\n",
        "      my_list = [10, 20, 30]\n",
        "      print(my_list[1])  # Output: 20\n",
        "  Dictionary: Access data using a key (name)\n",
        "    my_dict = {\"a\": 10, \"b\": 20}\n",
        "    print(my_dict[\"b\"])  # Output: 20\n",
        "\n"
      ],
      "metadata": {
        "id": "cFf0qqQdSh2O"
      }
    },
    {
      "cell_type": "markdown",
      "source": [
        "#practical questions"
      ],
      "metadata": {
        "id": "qPbOU7xuxAcP"
      }
    },
    {
      "cell_type": "code",
      "source": [
        "#1.Write a code to create a string with your name and print it.\n",
        "name = input(\"enter your name :\")\n",
        "print(name)"
      ],
      "metadata": {
        "colab": {
          "base_uri": "https://localhost:8080/"
        },
        "id": "JYgSnQdww46v",
        "outputId": "43ea742b-c14a-4529-f969-49b17ce339c3"
      },
      "execution_count": 2,
      "outputs": [
        {
          "output_type": "stream",
          "name": "stdout",
          "text": [
            "enter your name :Devraj\n",
            "Devraj\n"
          ]
        }
      ]
    },
    {
      "cell_type": "code",
      "execution_count": 3,
      "metadata": {
        "colab": {
          "base_uri": "https://localhost:8080/"
        },
        "id": "QgZsk_H0SW8b",
        "outputId": "95985371-e3dd-442a-9bbc-7102fd1289ea"
      },
      "outputs": [
        {
          "output_type": "stream",
          "name": "stdout",
          "text": [
            "11\n"
          ]
        }
      ],
      "source": [
        "#2.Write a code to find the length of the string \"Hello World\".\n",
        "\n",
        "print(len(\"Hello World\"))"
      ]
    },
    {
      "cell_type": "code",
      "source": [
        "#3.Write a code to slice the first 3 characters from the string \"Python Programming\".\n",
        "\n",
        "str = \"Python Programming\"\n",
        "print(str[0:3])"
      ],
      "metadata": {
        "colab": {
          "base_uri": "https://localhost:8080/"
        },
        "id": "X6TfHaDAxdSP",
        "outputId": "2342cb5c-c027-42db-8a3b-0c84162fdcf4"
      },
      "execution_count": 5,
      "outputs": [
        {
          "output_type": "stream",
          "name": "stdout",
          "text": [
            "Pyt\n"
          ]
        }
      ]
    },
    {
      "cell_type": "code",
      "source": [
        "#4.Write a code to convert the string \"hello\" to uppercase.\n",
        "str  = \"hello\"\n",
        "str1 = str.upper()\n",
        "print(str1)\n"
      ],
      "metadata": {
        "colab": {
          "base_uri": "https://localhost:8080/"
        },
        "id": "aFDZlz5wxrga",
        "outputId": "83d2d549-78f8-4f3d-f186-0c194547e8f6"
      },
      "execution_count": 9,
      "outputs": [
        {
          "output_type": "stream",
          "name": "stdout",
          "text": [
            "HELLO\n"
          ]
        }
      ]
    },
    {
      "cell_type": "code",
      "source": [
        "#5.Write a code to replace the word \"apple\" with \"orange\" in the string \"I like apple\".\n",
        "str = \"I like apple\"\n",
        "str1 = str.replace(\"apple\",\"orange\")\n",
        "print(str1)"
      ],
      "metadata": {
        "colab": {
          "base_uri": "https://localhost:8080/"
        },
        "id": "MEyRorpex1dj",
        "outputId": "4db41319-80fa-4e64-c8a5-433446727729"
      },
      "execution_count": 10,
      "outputs": [
        {
          "output_type": "stream",
          "name": "stdout",
          "text": [
            "I like orange\n"
          ]
        }
      ]
    },
    {
      "cell_type": "code",
      "source": [
        "#6.Write a code to create a list with numbers 1 to 5 and print it.\n",
        "list1 = []\n",
        "for i in range(5):\n",
        "  list1.append(i+1)\n",
        "print(list1)"
      ],
      "metadata": {
        "colab": {
          "base_uri": "https://localhost:8080/"
        },
        "id": "O9itR0mZyWMF",
        "outputId": "7a59326c-e81e-4f18-d5a8-11dddf79dcb1"
      },
      "execution_count": 60,
      "outputs": [
        {
          "output_type": "stream",
          "name": "stdout",
          "text": [
            "[1, 2, 3, 4, 5]\n"
          ]
        }
      ]
    },
    {
      "cell_type": "code",
      "source": [
        "#7.Write a code to append the number 10 to the list [1, 2, 3, 4].\n",
        "list1 = [1, 2, 3, 4]\n",
        "list1.append(10)\n",
        "print(list1)"
      ],
      "metadata": {
        "colab": {
          "base_uri": "https://localhost:8080/"
        },
        "id": "3M0cgny1yttd",
        "outputId": "c249661e-cfca-4c5e-b88a-ca9c94624100"
      },
      "execution_count": 61,
      "outputs": [
        {
          "output_type": "stream",
          "name": "stdout",
          "text": [
            "[1, 2, 3, 4, 10]\n"
          ]
        }
      ]
    },
    {
      "cell_type": "code",
      "source": [
        "#8.Write a code to remove the number 3 from the list [1, 2, 3, 4, 5].\n",
        "list2 = [1, 2, 3, 4, 5]\n",
        "list2.remove(3)\n",
        "print(list2)"
      ],
      "metadata": {
        "colab": {
          "base_uri": "https://localhost:8080/"
        },
        "id": "2ZLCD5-Yy7Rb",
        "outputId": "0e8d3c8a-2c7e-4b7a-9b88-1a992b46e415"
      },
      "execution_count": 62,
      "outputs": [
        {
          "output_type": "stream",
          "name": "stdout",
          "text": [
            "[1, 2, 4, 5]\n"
          ]
        }
      ]
    },
    {
      "cell_type": "code",
      "source": [
        "#9.Write a code to access the second element in the list ['a', 'b', 'c', 'd'].\n",
        "list3 = ['a', 'b', 'c', 'd']\n",
        "print(list3[1])"
      ],
      "metadata": {
        "colab": {
          "base_uri": "https://localhost:8080/"
        },
        "id": "t1Sp8EuzzG6e",
        "outputId": "3d7640be-6249-4adc-9c0f-3e8fd2a87d4a"
      },
      "execution_count": 63,
      "outputs": [
        {
          "output_type": "stream",
          "name": "stdout",
          "text": [
            "b\n"
          ]
        }
      ]
    },
    {
      "cell_type": "code",
      "source": [
        "#10.Write a code to reverse the list [10, 20, 30, 40, 50].\n",
        "list = [10, 20, 30, 40, 50]\n",
        "list.reverse()\n",
        "print(list)"
      ],
      "metadata": {
        "colab": {
          "base_uri": "https://localhost:8080/"
        },
        "id": "ik0CeP5kzURb",
        "outputId": "d6089635-89aa-4143-ab61-e8e0e4754a36"
      },
      "execution_count": 18,
      "outputs": [
        {
          "output_type": "stream",
          "name": "stdout",
          "text": [
            "[50, 40, 30, 20, 10]\n"
          ]
        }
      ]
    },
    {
      "cell_type": "code",
      "source": [
        "#11.Write a code to create a tuple with the elements 100, 200, 300 and print it.\n",
        "tuple1 = (100,200,300)\n",
        "print(tuple1)"
      ],
      "metadata": {
        "colab": {
          "base_uri": "https://localhost:8080/"
        },
        "id": "uX8wVaH7zfd5",
        "outputId": "8bb3aecf-aba8-4513-e53c-9a98aae6389b"
      },
      "execution_count": 64,
      "outputs": [
        {
          "output_type": "stream",
          "name": "stdout",
          "text": [
            "(100, 200, 300)\n"
          ]
        }
      ]
    },
    {
      "cell_type": "code",
      "source": [
        "#12.Write a code to access the second-to-last element of the tuple ('red', 'green', 'blue', 'yellow').\n",
        "tuple1 = ('red', 'green', 'blue', 'yellow')\n",
        "print(tuple1[-2])"
      ],
      "metadata": {
        "colab": {
          "base_uri": "https://localhost:8080/"
        },
        "id": "dWDPGlbX0IuH",
        "outputId": "cde34f95-2c23-4983-a6c4-b8da9e9d894f"
      },
      "execution_count": 65,
      "outputs": [
        {
          "output_type": "stream",
          "name": "stdout",
          "text": [
            "blue\n"
          ]
        }
      ]
    },
    {
      "cell_type": "code",
      "source": [
        "#13.Write a code to find the minimum number in the tuple (10, 20, 5, 15).\n",
        "tuple1 = (10, 20, 5, 15)\n",
        "print(min(tuple1))"
      ],
      "metadata": {
        "colab": {
          "base_uri": "https://localhost:8080/"
        },
        "id": "MyqLdPcl0dN0",
        "outputId": "487f5595-b83c-4e6e-8ef5-7cda7bb0a7e8"
      },
      "execution_count": 66,
      "outputs": [
        {
          "output_type": "stream",
          "name": "stdout",
          "text": [
            "5\n"
          ]
        }
      ]
    },
    {
      "cell_type": "code",
      "source": [
        "#14. Write a code to find the index of the element \"cat\" in the tuple ('dog', 'cat', 'rabbit').\n",
        "tuple1 = ('dog', 'cat', 'rabbit')\n",
        "print(tuple1.index('cat'))"
      ],
      "metadata": {
        "colab": {
          "base_uri": "https://localhost:8080/"
        },
        "id": "B2MPD9eT0x5e",
        "outputId": "82608373-b5d5-47a0-8c6f-b0b14fbcfad3"
      },
      "execution_count": 67,
      "outputs": [
        {
          "output_type": "stream",
          "name": "stdout",
          "text": [
            "1\n"
          ]
        }
      ]
    },
    {
      "cell_type": "code",
      "source": [
        "#15.Write a code to create a tuple containing three different fruits and check if \"kiwi\" is in it.\n",
        "tuple1 = (\"mango\",\"kiwi\",\"guava\")\n",
        "if \"kiwi\" in tuple1:\n",
        "  print(\"kiwi is present in the tuple\")\n",
        "else:\n",
        "  print(\"not present there\")"
      ],
      "metadata": {
        "colab": {
          "base_uri": "https://localhost:8080/"
        },
        "id": "0dJnVrtw0_RP",
        "outputId": "bf196d4d-582f-469b-e571-d56f8a785589"
      },
      "execution_count": 68,
      "outputs": [
        {
          "output_type": "stream",
          "name": "stdout",
          "text": [
            "kiwi is present in the tuple\n"
          ]
        }
      ]
    },
    {
      "cell_type": "code",
      "source": [
        "#16.Write a code to create a set with the elements 'a', 'b', 'c' and print it.\n",
        "set1 = {'a', 'b', 'c'}\n",
        "print(set1)"
      ],
      "metadata": {
        "colab": {
          "base_uri": "https://localhost:8080/"
        },
        "id": "8xk9CCJ_2GXR",
        "outputId": "936234ab-62dd-451c-e25d-c1767885eded"
      },
      "execution_count": 69,
      "outputs": [
        {
          "output_type": "stream",
          "name": "stdout",
          "text": [
            "{'c', 'a', 'b'}\n"
          ]
        }
      ]
    },
    {
      "cell_type": "code",
      "source": [
        "#17.Write a code to clear all elements from the set {1, 2, 3, 4, 5}.\n",
        "set1 = {1, 2, 3, 4, 5}\n",
        "set1.clear()\n",
        "print(set1)"
      ],
      "metadata": {
        "colab": {
          "base_uri": "https://localhost:8080/"
        },
        "id": "RuiC6eag2ctm",
        "outputId": "37ea93fe-40fe-4821-edb9-407197faaa04"
      },
      "execution_count": 70,
      "outputs": [
        {
          "output_type": "stream",
          "name": "stdout",
          "text": [
            "set()\n"
          ]
        }
      ]
    },
    {
      "cell_type": "code",
      "source": [
        "#18.Write a code to remove the element 4 from the set {1, 2, 3, 4}.\n",
        "set1 ={1, 2, 3, 4}\n",
        "set1.remove(4)\n",
        "print(set1)"
      ],
      "metadata": {
        "colab": {
          "base_uri": "https://localhost:8080/"
        },
        "id": "u580qE8F2pNm",
        "outputId": "9d750d2f-0659-4ea2-d476-cca6ebc306a6"
      },
      "execution_count": 72,
      "outputs": [
        {
          "output_type": "stream",
          "name": "stdout",
          "text": [
            "{1, 2, 3}\n"
          ]
        }
      ]
    },
    {
      "cell_type": "code",
      "source": [
        "#19. Write a code to find the union of two sets {1, 2, 3} and {3, 4, 5}.\n",
        "set1 = {1, 2, 3}\n",
        "set2 = {3, 4, 5}\n",
        "set3 = set1.union(set2)\n",
        "print(set3)"
      ],
      "metadata": {
        "colab": {
          "base_uri": "https://localhost:8080/"
        },
        "id": "7E5JUfOk23ml",
        "outputId": "32ef9579-73e6-4bfc-fc4f-fd27fac6509c"
      },
      "execution_count": 73,
      "outputs": [
        {
          "output_type": "stream",
          "name": "stdout",
          "text": [
            "{1, 2, 3, 4, 5}\n"
          ]
        }
      ]
    },
    {
      "cell_type": "code",
      "source": [
        "#20.Write a code to find the intersection of two sets {1, 2, 3} and {2, 3, 4}.\n",
        "set1 = {1, 2, 3}\n",
        "set2 = {2, 3, 4}\n",
        "set3 = set1.intersection(set2)\n",
        "print(set3)"
      ],
      "metadata": {
        "colab": {
          "base_uri": "https://localhost:8080/"
        },
        "id": "tmYKEZUQ3G00",
        "outputId": "715b3129-777c-415c-8459-1a25d6a39723"
      },
      "execution_count": 74,
      "outputs": [
        {
          "output_type": "stream",
          "name": "stdout",
          "text": [
            "{2, 3}\n"
          ]
        }
      ]
    },
    {
      "cell_type": "code",
      "source": [
        "#21.Write a code to create a dictionary with the keys \"name\", \"age\", and \"city\", and print it.\n",
        "preson = {\"name\" : \"Devraj Maji\",\"age\" : 20,\"city\":\"Kolkata\"}\n",
        "print(preson)"
      ],
      "metadata": {
        "colab": {
          "base_uri": "https://localhost:8080/"
        },
        "id": "Yo4sFZ6c3rWR",
        "outputId": "05a00ee5-9fc9-495e-95d1-32a57f356f46"
      },
      "execution_count": 75,
      "outputs": [
        {
          "output_type": "stream",
          "name": "stdout",
          "text": [
            "{'name': 'Devraj Maji', 'age': 20, 'city': 'Kolkata'}\n"
          ]
        }
      ]
    },
    {
      "cell_type": "code",
      "source": [
        "#22.Write a code to add a new key-value pair \"country\": \"USA\" to the dictionary {'name': 'John', 'age': 25}.\n",
        "preson = {'name': 'John', 'age': 25}\n",
        "preson[\"country\"] = \"USA\"\n",
        "print(preson)"
      ],
      "metadata": {
        "colab": {
          "base_uri": "https://localhost:8080/"
        },
        "id": "mzKok0eb4IB3",
        "outputId": "4892f743-be2d-4fc5-9b55-2b509886f38a"
      },
      "execution_count": 76,
      "outputs": [
        {
          "output_type": "stream",
          "name": "stdout",
          "text": [
            "{'name': 'John', 'age': 25, 'country': 'USA'}\n"
          ]
        }
      ]
    },
    {
      "cell_type": "code",
      "source": [
        "#23.Write a code to access the value associated with the key \"name\" in the dictionary {'name': 'Alice', 'age': 30}.\n",
        "dict1 = {'name': 'Alice', 'age': 30}\n",
        "print(dict1[\"name\"])"
      ],
      "metadata": {
        "colab": {
          "base_uri": "https://localhost:8080/"
        },
        "id": "FSsGMGLW4dSz",
        "outputId": "19199b1e-ac3d-4b3c-cfc5-89d2931dbd9b"
      },
      "execution_count": 77,
      "outputs": [
        {
          "output_type": "stream",
          "name": "stdout",
          "text": [
            "Alice\n"
          ]
        }
      ]
    },
    {
      "cell_type": "code",
      "source": [
        "#24.Write a code to remove the key \"age\" from the dictionary {'name': 'Bob', 'age': 22, 'city': 'New York'}.\n",
        "dict1 = {'name': 'Bob', 'age': 22, 'city': 'New York'}\n",
        "dict1.pop('age')\n",
        "print(dict1)"
      ],
      "metadata": {
        "colab": {
          "base_uri": "https://localhost:8080/"
        },
        "id": "D3FpYiP642Yf",
        "outputId": "7f05f8b4-7019-4ee2-f208-0582e2e1d463"
      },
      "execution_count": 78,
      "outputs": [
        {
          "output_type": "stream",
          "name": "stdout",
          "text": [
            "{'name': 'Bob', 'city': 'New York'}\n"
          ]
        }
      ]
    },
    {
      "cell_type": "code",
      "source": [
        "#25.Write a code to check if the key \"city\" exists in the dictionary {'name': 'Alice', 'city': 'Paris'}.\n",
        "dict1 = {'name': 'Alice', 'city': 'Paris'}\n",
        "flag = 0\n",
        "for i in dict1.keys():\n",
        "  if(i == 'city'):\n",
        "    flag = 1\n",
        "    break\n",
        "if(flag == 1):\n",
        "  print(\"yes! the key city present in dictionary\")\n",
        "else:\n",
        "  print(\"not present\")\n"
      ],
      "metadata": {
        "colab": {
          "base_uri": "https://localhost:8080/"
        },
        "id": "48VXBry05eqC",
        "outputId": "8701d8dc-ba88-442b-ced5-bb8580376d96"
      },
      "execution_count": 79,
      "outputs": [
        {
          "output_type": "stream",
          "name": "stdout",
          "text": [
            "yes! the key city present in dictionary\n"
          ]
        }
      ]
    },
    {
      "cell_type": "code",
      "source": [
        "#26.Write a code to create a list, a tuple, and a dictionary, and print them all.\n",
        "list = [1, 2, 3, 4, 5]\n",
        "tuple = (10, 20, 30)\n",
        "dict = {\"name\": \"Alice\", \"age\": 25}\n",
        "\n",
        "print(\"List:\", list)\n",
        "print(\"Tuple:\",tuple)\n",
        "print(\"Dictionary:\", dict)\n"
      ],
      "metadata": {
        "colab": {
          "base_uri": "https://localhost:8080/"
        },
        "id": "upd_x5Jc6oMU",
        "outputId": "70df3aed-9c63-463e-9828-f58c14fcddd4"
      },
      "execution_count": 80,
      "outputs": [
        {
          "output_type": "stream",
          "name": "stdout",
          "text": [
            "List: [1, 2, 3, 4, 5]\n",
            "Tuple: (10, 20, 30)\n",
            "Dictionary: {'name': 'Alice', 'age': 25}\n"
          ]
        }
      ]
    },
    {
      "cell_type": "code",
      "source": [
        "#27. Write a code to create a list of 5 random numbers between 1 and 100, sort it in ascending order, and print the result.(replaced).\n",
        "import random\n",
        "number= random.sample(range(1, 101), 5)\n",
        "number.sort()\n",
        "print(number)\n"
      ],
      "metadata": {
        "colab": {
          "base_uri": "https://localhost:8080/"
        },
        "id": "lR3b_HuE7A02",
        "outputId": "3aa194c5-5674-4a91-b03e-0c8044b5ff6a"
      },
      "execution_count": 81,
      "outputs": [
        {
          "output_type": "stream",
          "name": "stdout",
          "text": [
            "[1, 9, 14, 17, 86]\n"
          ]
        }
      ]
    },
    {
      "cell_type": "code",
      "source": [
        "#28.Write a code to create a list with strings and print the element at the third index.\n",
        "list1 = []\n",
        "for i in range(5):\n",
        "  str = input(\"enter the strings : \")\n",
        "  list1.append(str)\n",
        "print(list1[3])"
      ],
      "metadata": {
        "colab": {
          "base_uri": "https://localhost:8080/"
        },
        "id": "si3Kp9ah7cjV",
        "outputId": "fd3800e5-0b90-4914-82c1-891763dbd556"
      },
      "execution_count": 82,
      "outputs": [
        {
          "output_type": "stream",
          "name": "stdout",
          "text": [
            "enter the strings : fg\n",
            "enter the strings : hj\n",
            "enter the strings : jk\n",
            "enter the strings : ui\n",
            "enter the strings : ty\n",
            "ui\n"
          ]
        }
      ]
    },
    {
      "cell_type": "code",
      "source": [
        "#29.Write a code to combine two dictionaries into one and print the result.\n",
        "dict1 = {\"a\": 1,\"b\": 2}\n",
        "dict2 = {\"c\": 3,\"d\": 4}\n",
        "dict1.update(dict2)\n",
        "print(dict1)\n"
      ],
      "metadata": {
        "colab": {
          "base_uri": "https://localhost:8080/"
        },
        "id": "xxfzGYR984qa",
        "outputId": "8891c8b1-b044-4d57-d320-88ab743449e7"
      },
      "execution_count": 83,
      "outputs": [
        {
          "output_type": "stream",
          "name": "stdout",
          "text": [
            "{'a': 1, 'b': 2, 'c': 3, 'd': 4}\n"
          ]
        }
      ]
    },
    {
      "cell_type": "code",
      "source": [],
      "metadata": {
        "id": "XRbg5_Uo_Y-u"
      },
      "execution_count": 58,
      "outputs": []
    },
    {
      "cell_type": "code",
      "source": [
        "#30. Write a code to convert a list of strings into a set.\n",
        "list1 = [\"ab\", \"ab\", \"ac\", \"nm\", \"nm\"]\n",
        "set1 = set(list1)\n",
        "print(set1)"
      ],
      "metadata": {
        "colab": {
          "base_uri": "https://localhost:8080/"
        },
        "id": "WyGBFlhG99vl",
        "outputId": "4331f579-aac7-424a-8792-8ae9810f4029"
      },
      "execution_count": 84,
      "outputs": [
        {
          "output_type": "stream",
          "name": "stdout",
          "text": [
            "{'ac', 'nm', 'ab'}\n"
          ]
        }
      ]
    },
    {
      "cell_type": "code",
      "source": [],
      "metadata": {
        "id": "BkbmKz4n-wgX"
      },
      "execution_count": null,
      "outputs": []
    }
  ]
}