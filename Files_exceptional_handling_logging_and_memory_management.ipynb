{
  "nbformat": 4,
  "nbformat_minor": 0,
  "metadata": {
    "colab": {
      "provenance": []
    },
    "kernelspec": {
      "name": "python3",
      "display_name": "Python 3"
    },
    "language_info": {
      "name": "python"
    }
  },
  "cells": [
    {
      "cell_type": "markdown",
      "source": [
        "# Theoritical  questions\n",
        "\n",
        "1. What is the difference between interpreted and compiled languages?\n",
        "  ->Interpreted: Code runs line-by-line (example - Python).\n",
        "  Compiled: Code is translated to machine code before execution (example - C++).\n",
        "  Interpreted languages are slower but easier to debug. compiled ones are faster.\n",
        "\n",
        "2.What is exception handling in Python?\n",
        "  ->Exception handling allows us to catch and respond to errors during program execution using try, except, else, and finally. in try block we write the code which might give error and in exception block we handle the error.\n",
        "\n",
        "3.What is the purpose of the finally block in exception handling?\n",
        "  ->The finally block runs whether an exception is raised or not. It’s typically used to clean up resources. for example closing the file.\n",
        "\n",
        "4.What is logging in Python?\n",
        "  ->Logging is the process of recording program events and errors. Python’s logging module helps us log messages at different  levels like DEBUG, INFO, WARNING, ERROR, and CRITICAL.\n",
        "\n",
        "5.What is the significance of the __del__ method in Python?\n",
        "  ->The __del__ method is called when an object is about to be destroyed. It can be used to release resources.\n",
        "\n",
        "6.What is the difference between import and from ... import in Python?\n",
        "  ->import module: imports the whole module.\n",
        "    from module import func: imports only the specified function or class.\n",
        "\n",
        "7.How can you handle multiple exceptions in Python?\n",
        "  ->Use multiple except blocks or a single except with a tuple.\n",
        "   try:\n",
        "        ## here i can write my suspected code\n",
        "    except (TypeError,ValueError)n as e:\n",
        "      ## print(\"the error is\",e)\n",
        "\n",
        "8.What is the purpose of the with statement when handling files in Python?\n",
        "  ->It ensures proper resource management. Files opened using with are automatically closed, even if an error occurs.\n",
        "    code:-\n",
        "        with open(\"file.txt\",r) as file:\n",
        "            data = file.read()\n",
        "        print(data) ## here print the file data\n",
        "\n",
        "9. What is the difference between multithreading and multiprocessing?\n",
        "  ->Multithreading: multiple threads run in the same memory space. Multiple processes runs concurrently in multiple threads..\n",
        "  Multiprocessing: Separate processes with separate memory.Multiple processes runs in parallelly in multiple processor.\n",
        "\n",
        "10.What are the advantages of using logging in a program?\n",
        "  ->Tracks events and errors.\n",
        "  Helps debug issues.\n",
        "  Offers different log levels.\n",
        "  Works better than print() in large applications.\n",
        "\n",
        "11. What is memory management in Python?\n",
        "  ->Memory management in Python refers to how Python allocates and deallocates memory to store variables, data structures, and objects during program execution.Python manages memory automatically using reference counting.\n",
        "\n",
        "12.What are the basic steps involved in exception handling in Python?\n",
        "  ->try – Code that may raise an error.\n",
        "  except – Handle the error.\n",
        "  else – Runs if no exception occurs.\n",
        "  finally – Runs everytime , no matter error occured or not.\n",
        "\n",
        "13.Why is memory management important in Python?\n",
        "  ->It ensures efficient use of memory, prevents leaks, and maintains program stability and performance.\n",
        "\n",
        "14.What is the role of try and except in exception handling?\n",
        "  ->try – Code that may raise an error.\n",
        "    except – Handle the error.\n",
        "\n",
        "15.How does Python's garbage collection system work?\n",
        "  ->It uses reference counting and a cyclic garbage collector to detect and clean up unused objects.\n",
        "\n",
        "16.What is the purpose of the else block in exception handling?\n",
        "  ->The else block runs only if no exception occurs in the try block. It’s used for code that should run when the try is successful.\n",
        "\n",
        "17.What are the common logging levels in Python?\n",
        "  ->DEBUG\n",
        "    INFO\n",
        "    WARNING\n",
        "    ERROR\n",
        "    CRITICAL\n",
        "\n",
        "18.What is the difference between os.fork() and multiprocessing in Python?\n",
        "  ->os.fork() is unix-only and creates a child process.\n",
        "    multiprocessing is cross-platform and provides an easier interface for\n",
        "    spawning processes.\n",
        "\n",
        "19.What is the importance of closing a file in Python?\n",
        "  ->It ensures all data is saved, frees system resources, and prevents data corruption or file locks.\n",
        "\n",
        "20.What is the difference between file.read() and file.readline() in Python?\n",
        "  ->read(): Reads the whole file, whole content in the file.\n",
        "  readline(): Reads one line at a time\n",
        "\n",
        "21.What is the logging module in Python used for?\n",
        "  ->To record logs of events, errors, and informational messages during program execution.\n",
        "\n",
        "22.What is the os module in Python used for in file handling?\n",
        "  ->Used to interact with the operating system.like navigating directories, checking file existence, or removing files.\n",
        "\n",
        "23.What are the challenges associated with memory management in Python?\n",
        "  ->Managing cyclic references.\n",
        "  Memory leaks due to global variables.\n",
        "\n",
        "\n",
        "24.How do you raise an exception manually in Python?\n",
        "  ->Use the raise keyword:\n",
        "    raise ValueError(\"Invalid input\")\n",
        "\n",
        "25.Why is it important to use multithreading in certain applications?\n",
        "  ->Multithreading helps improve performance in I/O-bound tasks like network requests or file handling by allowing tasks to run concurrently."
      ],
      "metadata": {
        "id": "VWzIRhgW4ZQs"
      }
    },
    {
      "cell_type": "markdown",
      "source": [
        "# Practical questions"
      ],
      "metadata": {
        "id": "KXuEQ_gGYC4F"
      }
    },
    {
      "cell_type": "code",
      "source": [
        "#1.How can you open a file for writing in Python and write a string to it.\n",
        "\n",
        "file = open(\"file1.txt\",\"w\")\n",
        "file.write(\"hello my name is Devraj\")\n",
        "file.close()"
      ],
      "metadata": {
        "id": "xAnE3VPsYGTf"
      },
      "execution_count": null,
      "outputs": []
    },
    {
      "cell_type": "code",
      "source": [
        "#2. Write a Python program to read the contents of a file and print each line\n",
        "with open(\"file1.txt\",\"r\") as file:\n",
        "  data = file.read()\n",
        "print(data)\n"
      ],
      "metadata": {
        "colab": {
          "base_uri": "https://localhost:8080/"
        },
        "id": "cmrJohl3Yi3d",
        "outputId": "4fc4b40e-aab2-4a75-95ce-d938d0e3ef78"
      },
      "execution_count": null,
      "outputs": [
        {
          "output_type": "stream",
          "name": "stdout",
          "text": [
            "hello my name is Devraj\n"
          ]
        }
      ]
    },
    {
      "cell_type": "code",
      "source": [
        "#3.How would you handle a case where the file doesn't exist while trying to open it for reading?\n",
        "\n",
        "try:\n",
        "  file = open(\"file2.txt\",\"r\")\n",
        "  data = file.read()\n",
        "  print(data)\n",
        "except FileNotFoundError as e:\n",
        "  print(\"the error in this code is \",e)"
      ],
      "metadata": {
        "colab": {
          "base_uri": "https://localhost:8080/"
        },
        "id": "fCMxgkqnZ_j8",
        "outputId": "8102dd3f-1586-4bee-f685-ed0394a26b9f"
      },
      "execution_count": null,
      "outputs": [
        {
          "output_type": "stream",
          "name": "stdout",
          "text": [
            "the error in this code is  [Errno 2] No such file or directory: 'file2.txt'\n"
          ]
        }
      ]
    },
    {
      "cell_type": "code",
      "source": [
        "#4.Write a Python script that reads from one file and writes its content to another file.\n",
        "\n",
        "with open(\"file1.txt\",\"r\") as file:\n",
        "  data = file.read()\n",
        "\n",
        "with open(\"file2.txt\",\"w\") as file:\n",
        "  file.write(data)"
      ],
      "metadata": {
        "id": "1hrWVxiNa6EQ"
      },
      "execution_count": null,
      "outputs": []
    },
    {
      "cell_type": "code",
      "source": [
        "#5. How would you catch and handle division by zero error in Python?\n",
        "\n",
        "def func(n):\n",
        "  try:\n",
        "    p = n/0\n",
        "    print(p)\n",
        "  except ZeroDivisionError as e:\n",
        "    print(\"here the error is \",e)\n",
        "    print(f\"there the denominater is 0 so the value i take 1 instead of 0, so  the answer is {n/1}\")\n",
        "\n",
        "func(8)"
      ],
      "metadata": {
        "colab": {
          "base_uri": "https://localhost:8080/"
        },
        "id": "TV4Lh1sDbjRu",
        "outputId": "e1a45e76-16fb-46db-c98a-6731a63eb5de"
      },
      "execution_count": null,
      "outputs": [
        {
          "output_type": "stream",
          "name": "stdout",
          "text": [
            "here the error is  division by zero\n",
            "there the denominater is 0 so the value i take 1 instead of 0, so  the answer is 8.0\n"
          ]
        }
      ]
    },
    {
      "cell_type": "code",
      "source": [
        "#6.Write a Python program that logs an error message to a log file when a division by zero exception occurs.\n",
        "import logging\n",
        "logging.basicConfig(filename=\"error.log\",level=logging.ERROR,format='%(asctime)s - %(levelname)s - %(message)s')\n",
        "\n",
        "def divide(n):\n",
        "    try:\n",
        "        p = n / 0\n",
        "        print(p)\n",
        "    except ZeroDivisionError as e:\n",
        "        logging.error(\"The error in this code is: %s\", e)\n",
        "divide(1)\n"
      ],
      "metadata": {
        "id": "OUDz_jGxcUGB",
        "colab": {
          "base_uri": "https://localhost:8080/"
        },
        "outputId": "8b66876f-54bc-4c74-81f4-00f1fc19e1f3"
      },
      "execution_count": 3,
      "outputs": [
        {
          "output_type": "stream",
          "name": "stderr",
          "text": [
            "ERROR:root:The error in this code is: division by zero\n"
          ]
        }
      ]
    },
    {
      "cell_type": "code",
      "source": [
        "#7. How do you log information at different levels (INFO, ERROR, WARNING) in Python using the logging module?\n",
        "import logging\n",
        "logging.basicConfig(filename=\"file4.log\",level=logging.INFO,format='%(asctime)s - %(levelname)s - %(message)s')\n",
        "logging.info(\"This is an INFO message: Code executed as expected.\")\n",
        "logging.warning(\"This is a WARNING message: Code ran with a minor issue.\")\n",
        "logging.error(\"This is an ERROR message: Code encountered an error.\")"
      ],
      "metadata": {
        "id": "noUxUDBf-wJy"
      },
      "execution_count": 11,
      "outputs": []
    },
    {
      "cell_type": "code",
      "source": [
        "#8.Write a program to handle a file opening error using exception handling.\n",
        "\n",
        "try:\n",
        "  with open(\"devraj.txt\",\"r\") as file:\n",
        "    data = file.read()\n",
        "  print(data)\n",
        "except FileNotFoundError as e:\n",
        "  print(\"the error in this code is \",e )"
      ],
      "metadata": {
        "colab": {
          "base_uri": "https://localhost:8080/"
        },
        "id": "huUGVvO5BF2N",
        "outputId": "c459bab2-3c74-4358-9ef7-ff48b6228491"
      },
      "execution_count": 13,
      "outputs": [
        {
          "output_type": "stream",
          "name": "stdout",
          "text": [
            "the error in this code is  [Errno 2] No such file or directory: 'devraj.txt'\n"
          ]
        }
      ]
    },
    {
      "cell_type": "code",
      "source": [
        "#9.How can you read a file line by line and store its content in a list in Python?\n",
        "\n",
        "with open(\"dev.txt\",\"w\") as file:   ## just make a file for the question\n",
        "  file.write(\"hello there  i am learning python for data science\\n\")\n",
        "  file.write(\"i know dsa in c++\\n\")\n",
        "  file.write(\"i am in third year\\n\")\n",
        "  file.write(\"i am in class right now , and doing this assignment\")\n",
        "\n",
        "list = []\n",
        "with open(\"dev.txt\",\"r\") as file:\n",
        "  list = file.readlines()\n",
        "\n",
        "print(list)\n"
      ],
      "metadata": {
        "colab": {
          "base_uri": "https://localhost:8080/"
        },
        "id": "WphuIgRtCXY5",
        "outputId": "b5c53097-4033-4a66-a157-748595c91a36"
      },
      "execution_count": 16,
      "outputs": [
        {
          "output_type": "stream",
          "name": "stdout",
          "text": [
            "['hello there  i am learning python for data science\\n', 'i know dsa in c++\\n', 'i am in third year\\n', 'i am in class right now , and doing this assignment']\n"
          ]
        }
      ]
    },
    {
      "cell_type": "code",
      "source": [
        "#10.How can you append data to an existing file in Python?\n",
        "\n",
        "with open(\"dev.txt\",\"a\") as file:\n",
        "  file.write(\"by append we can add the data to a existing file\")"
      ],
      "metadata": {
        "id": "hcZUpNknE893"
      },
      "execution_count": 19,
      "outputs": []
    },
    {
      "cell_type": "code",
      "source": [
        "#11.Write a Python program that uses a try-except block to handle an error when attempting to access adictionary key that doesn't exist\n",
        "dict = {\"name\":\"devraj\",\"cgpa\":9.55}\n",
        "\n",
        "try:\n",
        "  print(dict[\"roll\"])\n",
        "except KeyError as e:\n",
        "  print(\"the error of this code is \",e)"
      ],
      "metadata": {
        "colab": {
          "base_uri": "https://localhost:8080/"
        },
        "id": "26kkXBckG6_j",
        "outputId": "a4543fb7-8e68-4ef8-fb1c-f2fb35239a55"
      },
      "execution_count": 24,
      "outputs": [
        {
          "output_type": "stream",
          "name": "stdout",
          "text": [
            "the error of this code is  'roll'\n"
          ]
        }
      ]
    },
    {
      "cell_type": "code",
      "source": [
        "#12. Write a program that demonstrates using multiple except blocks to handle different types of exceptions?\n",
        "try:\n",
        "  10/\"a\"\n",
        "except ZeroDivisionError as e:\n",
        "  print(\"the error in this code is \",e)\n",
        "except TypeError as e:\n",
        "    print(\"the error in this code is \",e)"
      ],
      "metadata": {
        "id": "9vt54354IUkU",
        "outputId": "b3c98b1f-197e-4fa3-911c-115abe1fedd2",
        "colab": {
          "base_uri": "https://localhost:8080/"
        }
      },
      "execution_count": 26,
      "outputs": [
        {
          "output_type": "stream",
          "name": "stdout",
          "text": [
            "the error in this code is  unsupported operand type(s) for /: 'int' and 'str'\n"
          ]
        }
      ]
    },
    {
      "cell_type": "code",
      "source": [
        "#13.How would you check if a file exists before attempting to read it in Python?\n",
        "file = None\n",
        "try:\n",
        "    file = open(\"dev.txt\", \"r\")\n",
        "except FileNotFoundError as e:\n",
        "    print(\"the file does not exist, so the error is:\", e)\n",
        "else:\n",
        "    print(\"the file exists and opened successfully.\")\n",
        "    data = file.read()\n",
        "    print(\"the data of the file is:\\n\", data)\n",
        "finally:\n",
        "    if file:\n",
        "        file.close()\n"
      ],
      "metadata": {
        "id": "hGXtDOXUJ2Jt",
        "outputId": "4ce4ff5e-54e2-451e-a2c5-7285abea2f40",
        "colab": {
          "base_uri": "https://localhost:8080/"
        }
      },
      "execution_count": 30,
      "outputs": [
        {
          "output_type": "stream",
          "name": "stdout",
          "text": [
            "The file exists and opened successfully.\n",
            "The data of the file is:\n",
            " hello there  i am learning python for data science\n",
            "i know dsa in c++\n",
            "i am in third year\n",
            "i am in class right now , and doing this assignmentby append we can add the data to a existing file\n"
          ]
        }
      ]
    },
    {
      "cell_type": "code",
      "source": [
        "#14.Write a program that uses the logging module to log both informational and error messages.\n",
        "import logging\n",
        "\n",
        "logging.basicConfig(\n",
        "    filename='file6.log',level=logging.INFO,  format='%(asctime)s - %(levelname)s - %(message)s')\n",
        "logging.info(\"the program started successfully.\")\n",
        "try:\n",
        "    result = 10 / 0\n",
        "except ZeroDivisionError as e:\n",
        "    logging.error(\"an error occurred during division: %s\", e)\n",
        "logging.info(\"the program continued after handling the error.\")\n"
      ],
      "metadata": {
        "id": "7nFTrSlbLSXL"
      },
      "execution_count": 32,
      "outputs": []
    },
    {
      "cell_type": "code",
      "source": [
        "#15.Write a Python program that prints the content of a file and handles the case when the file is empty.\n",
        "try:\n",
        "    with open(\"dev.txt\", \"r\") as file:\n",
        "        content = file.read()\n",
        "        if content.strip() == \"\":\n",
        "            print(\"the file is empty\")\n",
        "        else:\n",
        "            print(\"the content of the file is:\\n\")\n",
        "            print(content)\n",
        "except FileNotFoundError as e:\n",
        "    print(\"the file does not exist:\", e)\n"
      ],
      "metadata": {
        "id": "oRccg5FRMiLO",
        "outputId": "9638be84-555f-40aa-92fa-3fc57b9c258d",
        "colab": {
          "base_uri": "https://localhost:8080/"
        }
      },
      "execution_count": 34,
      "outputs": [
        {
          "output_type": "stream",
          "name": "stdout",
          "text": [
            "the content of the file is:\n",
            "\n",
            "hello there  i am learning python for data science\n",
            "i know dsa in c++\n",
            "i am in third year\n",
            "i am in class right now , and doing this assignmentby append we can add the data to a existing file\n"
          ]
        }
      ]
    },
    {
      "cell_type": "code",
      "source": [
        "!pip install memory-profiler"
      ],
      "metadata": {
        "id": "9Un4CC4SN09f",
        "outputId": "245f4789-76fd-491e-baa2-606420ccd0fa",
        "colab": {
          "base_uri": "https://localhost:8080/"
        }
      },
      "execution_count": 38,
      "outputs": [
        {
          "output_type": "stream",
          "name": "stdout",
          "text": [
            "Collecting memory-profiler\n",
            "  Downloading memory_profiler-0.61.0-py3-none-any.whl.metadata (20 kB)\n",
            "Requirement already satisfied: psutil in /usr/local/lib/python3.11/dist-packages (from memory-profiler) (5.9.5)\n",
            "Downloading memory_profiler-0.61.0-py3-none-any.whl (31 kB)\n",
            "Installing collected packages: memory-profiler\n",
            "Successfully installed memory-profiler-0.61.0\n"
          ]
        }
      ]
    },
    {
      "cell_type": "code",
      "source": [
        "#16.Demonstrate how to use memory profiling to check the memory usage of a small program.\n",
        "from memory_profiler import profile\n",
        "\n",
        "@profile\n",
        "def create_large_list():\n",
        "    data = [x * 2 for x in range(1000000)]\n",
        "    return data\n",
        "\n",
        "if __name__ == \"__main__\":\n",
        "    create_large_list()\n"
      ],
      "metadata": {
        "id": "PSNSiHjuO8oa",
        "outputId": "c487eb24-4f9e-4c23-ba27-5ed021ec3004",
        "colab": {
          "base_uri": "https://localhost:8080/"
        }
      },
      "execution_count": 39,
      "outputs": [
        {
          "output_type": "stream",
          "name": "stderr",
          "text": [
            "\n",
            "PYDEV DEBUGGER WARNING:\n",
            "sys.settrace() should not be used when the debugger is being used.\n",
            "This may cause the debugger to stop working correctly.\n",
            "If this is needed, please check: \n",
            "http://pydev.blogspot.com/2007/06/why-cant-pydev-debugger-work-with.html\n",
            "to see how to restore the debug tracing back correctly.\n",
            "Call Location:\n",
            "  File \"/usr/local/lib/python3.11/dist-packages/memory_profiler.py\", line 847, in enable\n",
            "    sys.settrace(self.trace_memory_usage)\n",
            "\n"
          ]
        },
        {
          "output_type": "stream",
          "name": "stdout",
          "text": [
            "ERROR: Could not find file /tmp/ipython-input-4087302835.py\n"
          ]
        },
        {
          "output_type": "stream",
          "name": "stderr",
          "text": [
            "\n",
            "PYDEV DEBUGGER WARNING:\n",
            "sys.settrace() should not be used when the debugger is being used.\n",
            "This may cause the debugger to stop working correctly.\n",
            "If this is needed, please check: \n",
            "http://pydev.blogspot.com/2007/06/why-cant-pydev-debugger-work-with.html\n",
            "to see how to restore the debug tracing back correctly.\n",
            "Call Location:\n",
            "  File \"/usr/local/lib/python3.11/dist-packages/memory_profiler.py\", line 850, in disable\n",
            "    sys.settrace(self._original_trace_function)\n",
            "\n"
          ]
        }
      ]
    },
    {
      "cell_type": "code",
      "source": [
        "#17.Write a Python program to create and write a list of numbers to a file, one number per line.\n",
        "numbers = [10, 20, 30, 40, 50]\n",
        "\n",
        "with open(\"numbers.txt\", \"w\") as file:\n",
        "    for number in numbers:\n",
        "        file.write(f\"{number}\\n\")\n"
      ],
      "metadata": {
        "id": "WIWN2Rb-PI_t"
      },
      "execution_count": 40,
      "outputs": []
    },
    {
      "cell_type": "code",
      "source": [
        "#18.How would you implement a basic logging setup that logs to a file with rotation after 1MB?\n",
        "import logging\n",
        "import os\n",
        "log_file = \"rotation.log\"\n",
        "max_size = 1 * 1024 * 1024\n",
        "def rotate():\n",
        "    if os.path.exists(log_file) and os.path.getsize(log_file) >= max_size:\n",
        "        os.rename(log_file, log_file + \".backup\")\n",
        "logging.basicConfig(filename=log_file,level=logging.INFO,format='%(asctime)s - %(levelname)s - %(message)s')\n",
        "for i in range(10000):\n",
        "    rotate()\n",
        "    logging.info(f\"This is log line {i}\")\n"
      ],
      "metadata": {
        "id": "_uwsfjc5QObU"
      },
      "execution_count": 42,
      "outputs": []
    },
    {
      "cell_type": "code",
      "source": [
        "#19.Write a program that handles both IndexError and KeyError using a try-except block.\n",
        "list = [1, 2, 3]\n",
        "try:\n",
        "    print(\"List item:\", list[5])\n",
        "except (IndexError,KeyError) as e:\n",
        "    print(\"error occurred:\", e)\n"
      ],
      "metadata": {
        "id": "y1Q3almuRFfm",
        "outputId": "08712343-ce9c-4e04-cb79-d7960edc7c8a",
        "colab": {
          "base_uri": "https://localhost:8080/"
        }
      },
      "execution_count": 45,
      "outputs": [
        {
          "output_type": "stream",
          "name": "stdout",
          "text": [
            "error occurred: list index out of range\n"
          ]
        }
      ]
    },
    {
      "cell_type": "code",
      "source": [
        "#20.How would you open a file and read its contents using a context manager in Python.\n",
        "with open(\"numbers.txt\", \"r\") as file:\n",
        "    content = file.read()\n",
        "    print(\"File content:\\n\", content)\n"
      ],
      "metadata": {
        "id": "LnEkW82ZRhpJ",
        "outputId": "b2fcfabb-30bb-401d-b326-1578cb4806e7",
        "colab": {
          "base_uri": "https://localhost:8080/"
        }
      },
      "execution_count": 47,
      "outputs": [
        {
          "output_type": "stream",
          "name": "stdout",
          "text": [
            "File content:\n",
            " 10\n",
            "20\n",
            "30\n",
            "40\n",
            "50\n",
            "\n"
          ]
        }
      ]
    },
    {
      "cell_type": "code",
      "source": [
        "#21.Write a Python program that reads a file and prints the number of occurrences of a specific word.\n",
        "word = \"python\"\n",
        "with open(\"dev.txt\", \"r\") as file:\n",
        "    content = file.read()\n",
        "    count = content.count(word)\n",
        "print(f\"The word '{word}' appears {count} times.\")"
      ],
      "metadata": {
        "id": "uSar7nsCSweI",
        "outputId": "f2552145-71d3-4e1f-94f2-b3f2ca478f11",
        "colab": {
          "base_uri": "https://localhost:8080/"
        }
      },
      "execution_count": 48,
      "outputs": [
        {
          "output_type": "stream",
          "name": "stdout",
          "text": [
            "The word 'python' appears 1 times.\n"
          ]
        }
      ]
    },
    {
      "cell_type": "code",
      "source": [
        "#22.How can you check if a file is empty before attempting to read its contents.\n",
        "with open(\"dev.txt\", \"r\") as file:\n",
        "    file.seek(0, 2)\n",
        "    if file.tell() == 0:\n",
        "        print(\"The file is empty.\")\n",
        "    else:\n",
        "        file.seek(0)\n",
        "        print(\"File content:\\n\", file.read())\n"
      ],
      "metadata": {
        "id": "B556WgRMTK-f",
        "outputId": "a5f3c47d-6703-4214-93f4-40673bd27e53",
        "colab": {
          "base_uri": "https://localhost:8080/"
        }
      },
      "execution_count": 49,
      "outputs": [
        {
          "output_type": "stream",
          "name": "stdout",
          "text": [
            "File content:\n",
            " hello there  i am learning python for data science\n",
            "i know dsa in c++\n",
            "i am in third year\n",
            "i am in class right now , and doing this assignmentby append we can add the data to a existing file\n"
          ]
        }
      ]
    },
    {
      "cell_type": "code",
      "source": [
        "#23.Write a Python program that writes to a log file when an error occurs during file handling.\n",
        "import logging\n",
        "logging.basicConfig(filename='file_error.log', level=logging.ERROR)\n",
        "try:\n",
        "    with open(\"non_existent_file.txt\", \"r\") as file:\n",
        "        data = file.read()\n",
        "        print(data)\n",
        "except FileNotFoundError as e:\n",
        "    print(\"An error occurred while opening the file.\")\n",
        "    logging.error(\"FileNotFoundError: %s\", e)\n"
      ],
      "metadata": {
        "id": "Nulnl9jTTyOc",
        "outputId": "2ee63b53-f46f-4b99-8746-1a0c8a81e4f7",
        "colab": {
          "base_uri": "https://localhost:8080/"
        }
      },
      "execution_count": 50,
      "outputs": [
        {
          "output_type": "stream",
          "name": "stdout",
          "text": [
            "An error occurred while opening the file.\n"
          ]
        }
      ]
    },
    {
      "cell_type": "code",
      "source": [],
      "metadata": {
        "id": "cOv8WC3sURgB"
      },
      "execution_count": null,
      "outputs": []
    }
  ]
}