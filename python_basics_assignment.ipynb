{
  "nbformat": 4,
  "nbformat_minor": 0,
  "metadata": {
    "colab": {
      "provenance": []
    },
    "kernelspec": {
      "name": "python3",
      "display_name": "Python 3"
    },
    "language_info": {
      "name": "python"
    }
  },
  "cells": [
    {
      "cell_type": "markdown",
      "source": [
        "# Theoritical questions\n",
        "1.What is Python, and why is it popular?\n",
        "  -> Python is a high-level, interpreted programming language known for its     simple syntax and readability.Popular because it’s easy to learn, supports multiple domains (web, AI, data science), and has huge library support.\n",
        "\n",
        "2.What is an interpreter in Python?\n",
        "  ->An interpreter in Python translates Python code line-by-line into machine code and executes it immediately. It enables Python to be platform-independent and dynamic.\n",
        "\n",
        "3.What are pre-defined keywords in Python?\n",
        "  ->Pre-defined keywords in Python are reserved words that have special meaning and are used to define the syntax and structure of the Python language.\n",
        "\n",
        "4.Can keywords be used as variable names?\n",
        "  ->No. Keywords cannot be used as variable names because they are reserved by the language for specific syntax.\n",
        "            Examample: if = 4 (invalid)\n",
        "\n",
        "5. What is mutability in Python?\n",
        "  ->When an obeject can be changed after creation, then that's called mutability.\n",
        "  Examample: list,dict.\n",
        "\n",
        "6. Why are lists mutable, but tuples are immutable?\n",
        "  ->Lists are designed for dynamic collections where changes are expected.\n",
        "  Tuples are fixed, ensuring data safety and used where a constant set of values is needed.\n",
        "\n",
        "7.What is the difference between “==” and “is” operators in Python?\n",
        "  ->   \"==\" checks value equality.\n",
        "      \"is\" checks if two variables point to the same object in memory.\n",
        "    a = [1, 2]; b = [1, 2]\n",
        "    a == b  # True\n",
        "    a is b  # False\n",
        "\n",
        "8.What are logical operators in Python?\n",
        "  ->Used to combine boolean expressions:\n",
        "    and = True if both conditions are True\n",
        "    or = True if at least one condition is True\n",
        "    not = Inverts the boolean value\n",
        "\n",
        "9.What is type casting in Python?\n",
        "  ->Type casting is converting one data type into another.\n",
        "  Example:\n",
        "  x = int(\"10\")  # Cast string to int\n",
        "\n",
        "10.What is the difference between implicit and explicit type casting?\n",
        "  ->Implicit: Python automatically converts the type.\n",
        "       x = 10 + 3.5  # int + float = float\n",
        "     Explicit: Programmer manually converts types using functions like int(), float(), str(), etc.\n",
        "\n",
        "11.What is the purpose of conditional statements in Python?\n",
        "  ->Conditional statements let programs make decisions based on conditions.\n",
        "  They execute certain blocks of code only if a condition is true (if, elif, else).\n",
        "\n",
        "12.How does the elif statement work?\n",
        "  ->elif means “else if.” It checks multiple conditions after an if.\n",
        "  Used when there are multiple decision paths.\n",
        "  x=3\n",
        "  if x > 0:\n",
        "    print(\"Positive\")\n",
        "  elif x < 0:\n",
        "    print(\"Negative\")\n",
        "  else:\n",
        "    print(\"Zero\")\n",
        "\n",
        "13.What is the difference between for and while loops?\n",
        "  ->for loop: Used when number of iterations is known (e.g., iterating over a list).\n",
        "  while loop: Used when condition-based looping is needed.\n",
        "  for:-\n",
        "  for i in range(1, 6):\n",
        "       print(i)\n",
        "  \n",
        "  while:-\n",
        "  i = 1\n",
        "  while i <= 5:\n",
        "     print(i)\n",
        "      i += 1\n",
        "\n",
        "14.Describe a scenario where a while loop is more suitable than a for loop?\n",
        "  ->eading user input until a valid password is entered.\n",
        "  password = \"\"\n",
        "  while password != \"admin123\":\n",
        "      password = input(\"Enter password: \")"
      ],
      "metadata": {
        "id": "0JEMHm0-zmSb"
      }
    },
    {
      "cell_type": "markdown",
      "source": [
        "Practical Questions"
      ],
      "metadata": {
        "id": "1O-B92dl-sh0"
      }
    },
    {
      "cell_type": "code",
      "execution_count": 1,
      "metadata": {
        "colab": {
          "base_uri": "https://localhost:8080/"
        },
        "id": "wgw8bk5bzcoN",
        "outputId": "15444846-af67-47a7-b021-04bb90418df4"
      },
      "outputs": [
        {
          "output_type": "stream",
          "name": "stdout",
          "text": [
            "Hello, World!\n"
          ]
        }
      ],
      "source": [
        "#1.Write a Python program to print \"Hello, World!\"\n",
        "\n",
        "print(\"Hello, World!\")"
      ]
    },
    {
      "cell_type": "code",
      "source": [
        "#2.Write a Python program that displays your name and age\n",
        "\n",
        "name = input(\"enter your name :\")\n",
        "age = int(input(\"enter your age :\"))\n",
        "print(\"name :\",name,\"age :\",age)"
      ],
      "metadata": {
        "colab": {
          "base_uri": "https://localhost:8080/"
        },
        "id": "rKD8Ms1f_ISz",
        "outputId": "0faa3d32-bb6f-47b1-9a29-7fef28ce0e83"
      },
      "execution_count": 2,
      "outputs": [
        {
          "output_type": "stream",
          "name": "stdout",
          "text": [
            "enter your name :devraj\n",
            "enter your age :20\n",
            "name : devraj age : 20\n"
          ]
        }
      ]
    },
    {
      "cell_type": "code",
      "source": [
        "#3.8 Write code to print all the pre-defined keywords in Python using the keyword library8\n",
        "import keyword\n",
        "print(\"Python Keywords:\")\n",
        "print(keyword.kwlist)"
      ],
      "metadata": {
        "colab": {
          "base_uri": "https://localhost:8080/"
        },
        "id": "wUeKDJ1c_kxh",
        "outputId": "c89def8e-ff4e-4c63-dea4-8d7bd8aadb0e"
      },
      "execution_count": 3,
      "outputs": [
        {
          "output_type": "stream",
          "name": "stdout",
          "text": [
            "Python Keywords:\n",
            "['False', 'None', 'True', 'and', 'as', 'assert', 'async', 'await', 'break', 'class', 'continue', 'def', 'del', 'elif', 'else', 'except', 'finally', 'for', 'from', 'global', 'if', 'import', 'in', 'is', 'lambda', 'nonlocal', 'not', 'or', 'pass', 'raise', 'return', 'try', 'while', 'with', 'yield']\n"
          ]
        }
      ]
    },
    {
      "cell_type": "code",
      "source": [
        "#4.Write a program that checks if a given word is a Python keyword\n",
        "import keyword\n",
        "word = input(\"Enter a word: \")\n",
        "if keyword.iskeyword(word):\n",
        "    print(f\"'{word}' is a Python keyword.\")\n",
        "else:\n",
        "    print(f\"'{word}' is not a Python keyword.\")"
      ],
      "metadata": {
        "colab": {
          "base_uri": "https://localhost:8080/"
        },
        "id": "ALOENmez_4Sq",
        "outputId": "26d58990-c255-4d10-839d-4ab5f039c3a1"
      },
      "execution_count": 4,
      "outputs": [
        {
          "output_type": "stream",
          "name": "stdout",
          "text": [
            "Enter a word: as\n",
            "'as' is a Python keyword.\n"
          ]
        }
      ]
    },
    {
      "cell_type": "code",
      "source": [
        "'''\n",
        "5.Create a list and tuple in Python, and demonstrate how attempting to change an element works differently\n",
        "for each.\n",
        "'''\n",
        "list = [10, 20, 30]\n",
        "tuple = (10, 20, 30)\n",
        "list[1] = 99\n",
        "print(\"Modified list:\",list)\n",
        "try:\n",
        "   tuple[1] = 99\n",
        "except TypeError as e:\n",
        "    print(\"Error :\", e)\n"
      ],
      "metadata": {
        "colab": {
          "base_uri": "https://localhost:8080/"
        },
        "id": "eKBg_t8_Ad9S",
        "outputId": "2db6ea97-37c5-4d35-a4e0-738d0d43a4f0"
      },
      "execution_count": 6,
      "outputs": [
        {
          "output_type": "stream",
          "name": "stdout",
          "text": [
            "Modified list: [10, 99, 30]\n",
            "Error : 'tuple' object does not support item assignment\n"
          ]
        }
      ]
    },
    {
      "cell_type": "markdown",
      "source": [],
      "metadata": {
        "id": "pq08od9Kzjgp"
      }
    },
    {
      "cell_type": "code",
      "source": [
        "#6.Write a function to demonstrate the behavior of mutable and immutable arguments.\n",
        "def modify_args(immu,muta):\n",
        "    immu += 1\n",
        "    muta.append(4)\n",
        "    print(\"Inside function:\")\n",
        "    print(\"Immutable:\", immu)\n",
        "    print(\"Mutable:\", muta)\n",
        "x = 10\n",
        "y = [1, 2, 3]\n",
        "modify_args(x, y)\n",
        "print(\"Outside function:\")\n",
        "print(\"Immutable:\", x)\n",
        "print(\"Mutable:\", y)\n"
      ],
      "metadata": {
        "colab": {
          "base_uri": "https://localhost:8080/"
        },
        "id": "GRZZXW8NDGRu",
        "outputId": "61b7fdf2-0971-4579-f51f-ba5e3eb53c55"
      },
      "execution_count": 8,
      "outputs": [
        {
          "output_type": "stream",
          "name": "stdout",
          "text": [
            "Inside function:\n",
            "Immutable: 11\n",
            "Mutable: [1, 2, 3, 4]\n",
            "Outside function:\n",
            "Immutable: 10\n",
            "Mutable: [1, 2, 3, 4]\n"
          ]
        }
      ]
    },
    {
      "cell_type": "code",
      "source": [
        "#7. Write a program that performs basic arithmetic operations on two user-input numbers.\n",
        "\n",
        "num1 = float(input(\"Enter first number: \"))\n",
        "num2 = float(input(\"Enter second number: \"))\n",
        "print(\"Addition:\", num1 + num2)\n",
        "print(\"Subtraction:\", num1 - num2)\n",
        "print(\"Multiplication:\", num1 * num2)\n",
        "if num2 != 0:\n",
        "    print(\"Division:\", num1 / num2)\n",
        "else:\n",
        "    print(\"Division: Cannot divide by zero\")\n"
      ],
      "metadata": {
        "colab": {
          "base_uri": "https://localhost:8080/"
        },
        "id": "hvBfR3LcDyxr",
        "outputId": "16a95937-229f-4142-f8c4-bbf58c60e023"
      },
      "execution_count": 10,
      "outputs": [
        {
          "output_type": "stream",
          "name": "stdout",
          "text": [
            "Enter first number: 2\n",
            "Enter second number: 3\n",
            "Addition: 5.0\n",
            "Subtraction: -1.0\n",
            "Multiplication: 6.0\n",
            "Division: 0.6666666666666666\n"
          ]
        }
      ]
    },
    {
      "cell_type": "code",
      "source": [
        "#8.Write a program to demonstrate the use of logical operators\n",
        "a = int(input(\"Enter first number: \"))\n",
        "b = int(input(\"Enter second number: \"))\n",
        "if a > 0 and b > 0:\n",
        "    print(\"Both numbers are positive\")\n",
        "if a > 0 or b > 0:\n",
        "    print(\"At least one number is positive\")\n",
        "if not (a < 0):\n",
        "    print(\"First number is not negative\")\n"
      ],
      "metadata": {
        "colab": {
          "base_uri": "https://localhost:8080/"
        },
        "id": "yS9VUbysERrI",
        "outputId": "a0364e1b-0270-4e78-8671-31c485c1ec95"
      },
      "execution_count": 11,
      "outputs": [
        {
          "output_type": "stream",
          "name": "stdout",
          "text": [
            "Enter first number: 3\n",
            "Enter second number: 2\n",
            "Both numbers are positive\n",
            "At least one number is positive\n",
            "First number is not negative\n"
          ]
        }
      ]
    },
    {
      "cell_type": "code",
      "source": [
        "#9.Write a Python program to convert user input from string to integer, float, and boolean types.\n",
        "\n",
        "user_input = input(\"Enter a value: \")\n",
        "int_value = int(user_input)\n",
        "print(\"As Integer:\", int_value)\n",
        "\n",
        "float_value = float(user_input)\n",
        "print(\"As Float:\", float_value)\n",
        "\n",
        "bool_value = bool(user_input)\n",
        "print(\"As Boolean:\", bool_value)\n"
      ],
      "metadata": {
        "colab": {
          "base_uri": "https://localhost:8080/"
        },
        "id": "c3GB3UHLEgYG",
        "outputId": "e200f34d-a97c-4385-c832-691e6cdfd39b"
      },
      "execution_count": 12,
      "outputs": [
        {
          "output_type": "stream",
          "name": "stdout",
          "text": [
            "Enter a value: 1\n",
            "As Integer: 1\n",
            "As Float: 1.0\n",
            "As Boolean: True\n"
          ]
        }
      ]
    },
    {
      "cell_type": "code",
      "source": [
        "#10.Write code to demonstrate type casting with list elements.\n",
        "str_list = [\"10\", \"20\", \"30\", \"40\"]\n",
        "int_list = [int(x) for x in str_list]\n",
        "float_list = [float(x) for x in str_list]\n",
        "bool_list = [bool(x) for x in str_list]\n",
        "print(\"original String List:\", str_list)\n",
        "print(\"integer List:\", int_list)\n",
        "print(\"float List:\", float_list)\n",
        "print(\"boolean List:\", bool_list)\n"
      ],
      "metadata": {
        "colab": {
          "base_uri": "https://localhost:8080/"
        },
        "id": "AXfGHUEmEzyu",
        "outputId": "fef782d9-1a20-4a07-d329-f07937165422"
      },
      "execution_count": 14,
      "outputs": [
        {
          "output_type": "stream",
          "name": "stdout",
          "text": [
            "original String List: ['10', '20', '30', '40']\n",
            "integer List: [10, 20, 30, 40]\n",
            "float List: [10.0, 20.0, 30.0, 40.0]\n",
            "boolean List: [True, True, True, True]\n"
          ]
        }
      ]
    },
    {
      "cell_type": "code",
      "source": [
        "#11.Write a program that checks if a number is positive, negative, or zero.\n",
        "num = float(input(\"Enter a number: \"))\n",
        "if num > 0:\n",
        "    print(\"The number is positive.\")\n",
        "elif num < 0:\n",
        "    print(\"The number is negative.\")\n",
        "else:\n",
        "    print(\"The number is zero.\")\n"
      ],
      "metadata": {
        "colab": {
          "base_uri": "https://localhost:8080/"
        },
        "id": "iASxSYibL1jj",
        "outputId": "6fc7de43-38c0-48c4-a0a8-57ff464b8b6f"
      },
      "execution_count": 15,
      "outputs": [
        {
          "output_type": "stream",
          "name": "stdout",
          "text": [
            "Enter a number: 3\n",
            "The number is positive.\n"
          ]
        }
      ]
    },
    {
      "cell_type": "code",
      "source": [
        "#12. Write a for loop to print numbers from 1 to 10.\n",
        "for i in range(1,11):\n",
        "  print(i)"
      ],
      "metadata": {
        "colab": {
          "base_uri": "https://localhost:8080/"
        },
        "id": "2tF-bSIuMNCd",
        "outputId": "3f75c297-7500-4d18-8492-847b066a37bf"
      },
      "execution_count": 16,
      "outputs": [
        {
          "output_type": "stream",
          "name": "stdout",
          "text": [
            "1\n",
            "2\n",
            "3\n",
            "4\n",
            "5\n",
            "6\n",
            "7\n",
            "8\n",
            "9\n",
            "10\n"
          ]
        }
      ]
    },
    {
      "cell_type": "code",
      "source": [
        "#13. Write a Python program to find the sum of all even numbers between 1 and 50.\n",
        "sum = 0\n",
        "for i in range(1,51):\n",
        "  if(i%2==0):\n",
        "    sum+=i\n",
        "print(sum)"
      ],
      "metadata": {
        "colab": {
          "base_uri": "https://localhost:8080/"
        },
        "id": "N6FsSYhcMXfH",
        "outputId": "4d1ec3e8-b1ca-4e09-f6a4-b409eb1a993a"
      },
      "execution_count": 17,
      "outputs": [
        {
          "output_type": "stream",
          "name": "stdout",
          "text": [
            "650\n"
          ]
        }
      ]
    },
    {
      "cell_type": "code",
      "source": [
        "#14.Write a program to reverse a string using a while loop.\n",
        "str1 = \"devraj\"\n",
        "i = len(str1) - 1\n",
        "str2 = \"\"\n",
        "while i >= 0:\n",
        "    str2 += str1[i]\n",
        "    i -= 1\n",
        "print(str2)\n"
      ],
      "metadata": {
        "colab": {
          "base_uri": "https://localhost:8080/"
        },
        "id": "_vTrTMSwMo8V",
        "outputId": "6480ed22-f680-4755-964b-c251f28cc80a"
      },
      "execution_count": 19,
      "outputs": [
        {
          "output_type": "stream",
          "name": "stdout",
          "text": [
            "jarved\n"
          ]
        }
      ]
    },
    {
      "cell_type": "code",
      "source": [
        "#15. Write a Python program to calculate the factorial of a number provided by the user using a while loop\n",
        "num = int(input(\"Enter a number: \"))\n",
        "fac = 1\n",
        "while num!=0:\n",
        "      fac*=num\n",
        "      num-=1;\n",
        "print(fac)\n"
      ],
      "metadata": {
        "colab": {
          "base_uri": "https://localhost:8080/"
        },
        "id": "iIezEim8NSMo",
        "outputId": "eab8cfe5-a43d-431d-aea3-a5fa7eeb9750"
      },
      "execution_count": 21,
      "outputs": [
        {
          "output_type": "stream",
          "name": "stdout",
          "text": [
            "Enter a number: 5\n",
            "120\n"
          ]
        }
      ]
    },
    {
      "cell_type": "code",
      "source": [],
      "metadata": {
        "id": "xemSiPFtN-W4"
      },
      "execution_count": null,
      "outputs": []
    }
  ]
}